{
 "cells": [
  {
   "cell_type": "code",
   "execution_count": 1,
   "id": "4081867a",
   "metadata": {},
   "outputs": [],
   "source": [
    "from files import *"
   ]
  },
  {
   "cell_type": "code",
   "execution_count": 2,
   "id": "047999cb",
   "metadata": {},
   "outputs": [
    {
     "data": {
      "text/plain": [
       "'s3://alpha-blokus/scrap/games/2025-09-28_18-38-58-010676000-58604857_59.bin'"
      ]
     },
     "execution_count": 2,
     "metadata": {},
     "output_type": "execute_result"
    }
   ],
   "source": [
    "latest_file(\"s3://alpha-blokus/scrap/games/\", \".bin\")"
   ]
  },
  {
   "cell_type": "code",
   "execution_count": 4,
   "id": "6929e0e4",
   "metadata": {},
   "outputs": [
    {
     "data": {
      "text/plain": [
       "'/tmp/shivam-blah/2025-09-28_18-38-58-010676000-58604857_59.bin'"
      ]
     },
     "execution_count": 4,
     "metadata": {},
     "output_type": "execute_result"
    }
   ],
   "source": [
    "localize_file(latest_file(\"s3://alpha-blokus/scrap/games/\", \".bin\"), \"/tmp/shivam-blah\")"
   ]
  },
  {
   "cell_type": "code",
   "execution_count": null,
   "id": "28aecf54",
   "metadata": {},
   "outputs": [],
   "source": []
  }
 ],
 "metadata": {
  "kernelspec": {
   "display_name": "Python 3",
   "language": "python",
   "name": "python3"
  },
  "language_info": {
   "codemirror_mode": {
    "name": "ipython",
    "version": 3
   },
   "file_extension": ".py",
   "mimetype": "text/x-python",
   "name": "python",
   "nbconvert_exporter": "python",
   "pygments_lexer": "ipython3",
   "version": "3.12.11"
  }
 },
 "nbformat": 4,
 "nbformat_minor": 5
}
